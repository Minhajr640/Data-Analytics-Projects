{
 "cells": [
  {
   "cell_type": "code",
   "execution_count": 49,
   "id": "2d6a1d37",
   "metadata": {},
   "outputs": [],
   "source": [
    "# import libraries\n",
    "\n",
    "from bs4 import BeautifulSoup\n",
    "import requests\n",
    "import smtplib\n",
    "import time\n",
    "import datetime\n",
    "import pandas as pd\n",
    "import os\n",
    "import csv"
   ]
  },
  {
   "cell_type": "code",
   "execution_count": 50,
   "id": "a28fdfec",
   "metadata": {},
   "outputs": [],
   "source": [
    "URL = 'https://books.toscrape.com/'\n",
    "response = requests.get(URL)\n"
   ]
  },
  {
   "cell_type": "code",
   "execution_count": 51,
   "id": "c536a250",
   "metadata": {},
   "outputs": [],
   "source": [
    "page_contents = response.text"
   ]
  },
  {
   "cell_type": "code",
   "execution_count": 52,
   "id": "cd0c98e1",
   "metadata": {},
   "outputs": [],
   "source": [
    "#Creating a file and loading the page contents in it.\n",
    "with open('Bookswebpage.html','w') as f:\n",
    "    f.write(page_contents)"
   ]
  },
  {
   "cell_type": "code",
   "execution_count": 53,
   "id": "038838d5",
   "metadata": {},
   "outputs": [],
   "source": [
    "doc = BeautifulSoup(page_contents,'html.parser')"
   ]
  },
  {
   "cell_type": "code",
   "execution_count": 90,
   "id": "224be6e8",
   "metadata": {},
   "outputs": [],
   "source": [
    "def get_book_titles(doc):\n",
    "    Book_title_tags = doc.find_all('h3')\n",
    "    Book_titles = []\n",
    "    for tags in Book_title_tags:\n",
    "        Book_titles.append(tags.text)\n",
    "    return Book_titles\n",
    "\n"
   ]
  },
  {
   "cell_type": "code",
   "execution_count": 91,
   "id": "5b7d6a73",
   "metadata": {},
   "outputs": [
    {
     "data": {
      "text/plain": [
       "['A Light in the ...',\n",
       " 'Tipping the Velvet',\n",
       " 'Soumission',\n",
       " 'Sharp Objects',\n",
       " 'Sapiens: A Brief History ...',\n",
       " 'The Requiem Red',\n",
       " 'The Dirty Little Secrets ...',\n",
       " 'The Coming Woman: A ...',\n",
       " 'The Boys in the ...',\n",
       " 'The Black Maria',\n",
       " 'Starving Hearts (Triangular Trade ...',\n",
       " \"Shakespeare's Sonnets\",\n",
       " 'Set Me Free',\n",
       " \"Scott Pilgrim's Precious Little ...\",\n",
       " 'Rip it Up and ...',\n",
       " 'Our Band Could Be ...',\n",
       " 'Olio',\n",
       " 'Mesaerion: The Best Science ...',\n",
       " 'Libertarianism for Beginners',\n",
       " \"It's Only the Himalayas\"]"
      ]
     },
     "execution_count": 91,
     "metadata": {},
     "output_type": "execute_result"
    }
   ],
   "source": [
    "get_book_titles(doc)"
   ]
  },
  {
   "cell_type": "code",
   "execution_count": 92,
   "id": "dde6cd2b",
   "metadata": {},
   "outputs": [],
   "source": [
    "##Creating a helper function to get book prices\n",
    "def get_book_price(doc):\n",
    "    Book_price_tags = doc.find_all('p', class_ = 'price_color')\n",
    "    Book_price = []\n",
    "    for tags in Book_price_tags:\n",
    "        Book_price.append(tags.text.replace('Â',''))\n",
    "    return Book_price"
   ]
  },
  {
   "cell_type": "code",
   "execution_count": 93,
   "id": "1d0a169d",
   "metadata": {},
   "outputs": [
    {
     "data": {
      "text/plain": [
       "['£51.77',\n",
       " '£53.74',\n",
       " '£50.10',\n",
       " '£47.82',\n",
       " '£54.23',\n",
       " '£22.65',\n",
       " '£33.34',\n",
       " '£17.93',\n",
       " '£22.60',\n",
       " '£52.15',\n",
       " '£13.99',\n",
       " '£20.66',\n",
       " '£17.46',\n",
       " '£52.29',\n",
       " '£35.02',\n",
       " '£57.25',\n",
       " '£23.88',\n",
       " '£37.59',\n",
       " '£51.33',\n",
       " '£45.17']"
      ]
     },
     "execution_count": 93,
     "metadata": {},
     "output_type": "execute_result"
    }
   ],
   "source": [
    "get_book_price(doc)"
   ]
  },
  {
   "cell_type": "code",
   "execution_count": 94,
   "id": "841c453e",
   "metadata": {},
   "outputs": [],
   "source": [
    "##creating a helper function to get stock availability of books\n",
    "\n",
    "def get_stock_availability(doc):\n",
    "    Book_stock_tags = doc.find_all('p', class_ = 'instock availability')\n",
    "    Book_stock = []\n",
    "    for tags in Book_stock_tags:\n",
    "        Book_stock.append(tags.text.strip())\n",
    "    return Book_stock"
   ]
  },
  {
   "cell_type": "code",
   "execution_count": 95,
   "id": "c949642b",
   "metadata": {},
   "outputs": [
    {
     "data": {
      "text/plain": [
       "['In stock',\n",
       " 'In stock',\n",
       " 'In stock',\n",
       " 'In stock',\n",
       " 'In stock',\n",
       " 'In stock',\n",
       " 'In stock',\n",
       " 'In stock',\n",
       " 'In stock',\n",
       " 'In stock',\n",
       " 'In stock',\n",
       " 'In stock',\n",
       " 'In stock',\n",
       " 'In stock',\n",
       " 'In stock',\n",
       " 'In stock',\n",
       " 'In stock',\n",
       " 'In stock',\n",
       " 'In stock',\n",
       " 'In stock']"
      ]
     },
     "execution_count": 95,
     "metadata": {},
     "output_type": "execute_result"
    }
   ],
   "source": [
    "get_stock_availability(doc)"
   ]
  },
  {
   "cell_type": "code",
   "execution_count": 96,
   "id": "81992868",
   "metadata": {},
   "outputs": [],
   "source": [
    "## Create a helper function to get Url links for each book.\n",
    "\n",
    "def get_book_url(Book_title_tags):\n",
    "    Book_url = []\n",
    "    for article in Book_title_tags:\n",
    "        for link in article.find_all('a', href = True):\n",
    "            url = link['href']\n",
    "            links = 'https://books.toscrape.com/' + url\n",
    "            if links not in Book_url:\n",
    "                Book_url.append(links)\n",
    "    return Book_url"
   ]
  },
  {
   "cell_type": "code",
   "execution_count": 97,
   "id": "8cf4a22d",
   "metadata": {},
   "outputs": [
    {
     "ename": "NameError",
     "evalue": "name 'Book_title_tags' is not defined",
     "output_type": "error",
     "traceback": [
      "\u001b[0;31m---------------------------------------------------------------------------\u001b[0m",
      "\u001b[0;31mNameError\u001b[0m                                 Traceback (most recent call last)",
      "\u001b[0;32m/var/folders/hk/b5lp27jj4z914vg85zy9v_8c0000gn/T/ipykernel_1270/1886083171.py\u001b[0m in \u001b[0;36m<module>\u001b[0;34m\u001b[0m\n\u001b[0;32m----> 1\u001b[0;31m \u001b[0mget_book_url\u001b[0m\u001b[0;34m(\u001b[0m\u001b[0mBook_title_tags\u001b[0m\u001b[0;34m)\u001b[0m\u001b[0;34m\u001b[0m\u001b[0;34m\u001b[0m\u001b[0m\n\u001b[0m",
      "\u001b[0;31mNameError\u001b[0m: name 'Book_title_tags' is not defined"
     ]
    }
   ],
   "source": [
    "get_book_url(Book_title_tags)"
   ]
  },
  {
   "cell_type": "code",
   "execution_count": 102,
   "id": "b3dc088c",
   "metadata": {},
   "outputs": [
    {
     "ename": "NameError",
     "evalue": "name 'Book_title_tags' is not defined",
     "output_type": "error",
     "traceback": [
      "\u001b[0;31m---------------------------------------------------------------------------\u001b[0m",
      "\u001b[0;31mNameError\u001b[0m                                 Traceback (most recent call last)",
      "\u001b[0;32m/var/folders/hk/b5lp27jj4z914vg85zy9v_8c0000gn/T/ipykernel_1270/1594543279.py\u001b[0m in \u001b[0;36m<module>\u001b[0;34m\u001b[0m\n\u001b[1;32m      9\u001b[0m     \u001b[0;32mreturn\u001b[0m \u001b[0mBook_url\u001b[0m\u001b[0;34m\u001b[0m\u001b[0;34m\u001b[0m\u001b[0m\n\u001b[1;32m     10\u001b[0m \u001b[0;34m\u001b[0m\u001b[0m\n\u001b[0;32m---> 11\u001b[0;31m \u001b[0mget_book_url\u001b[0m\u001b[0;34m(\u001b[0m\u001b[0mBook_title_tags\u001b[0m\u001b[0;34m)\u001b[0m\u001b[0;34m\u001b[0m\u001b[0;34m\u001b[0m\u001b[0m\n\u001b[0m",
      "\u001b[0;31mNameError\u001b[0m: name 'Book_title_tags' is not defined"
     ]
    }
   ],
   "source": [
    "def get_book_url(Book_title_tags):\n",
    "    Book_url = []\n",
    "    for article in Book_title_tags:\n",
    "        for link in article.find_all('a', href = True):\n",
    "            url = link['href']\n",
    "            links = 'https://books.toscrape.com/' + url\n",
    "            if links not in Book_url:\n",
    "                Book_url.append(links)\n",
    "    return Book_url\n",
    "\n",
    "get_book_url(Book_title_tags)"
   ]
  },
  {
   "cell_type": "code",
   "execution_count": 103,
   "id": "9956083d",
   "metadata": {},
   "outputs": [],
   "source": [
    "def get_doc(url):\n",
    "    response = requests.get(url)\n",
    "    doc = BeautifulSoup(response.text,'html.parser')\n",
    "    if response.status_code != 200:\n",
    "        raise Exception('Failed to load page {}'.format(response))\n",
    "    return doc"
   ]
  },
  {
   "cell_type": "code",
   "execution_count": 104,
   "id": "5370cd88",
   "metadata": {},
   "outputs": [],
   "source": [
    "def scrape_multiple_pages(n):\n",
    "    URL = 'https://books.toscrape.com/catalogue/page-'\n",
    "    titles,prices,stocks_availability,urls = [],[],[],[]\n",
    "    \n",
    "    for page in range(1,n+1):\n",
    "        doc = get_doc(URL + str(page)+ '.html')\n",
    "        titles.extend(get_book_titles(doc))\n",
    "        prices.extend(get_book_price(doc))\n",
    "        stocks_availability.extend(get_stock_availability(doc))\n",
    "        urls.extend(get_book_url(doc.find_all('h3')))\n",
    "        \n",
    "    book_dict1 = {\n",
    "                'TITLE':titles,\n",
    "                'PRICE':prices,\n",
    "                'STOCK AVAILABILTY':stocks_availability,\n",
    "                'URL':urls}\n",
    "    return pd.DataFrame(book_dict1)"
   ]
  },
  {
   "cell_type": "code",
   "execution_count": 105,
   "id": "0eee8c8e",
   "metadata": {},
   "outputs": [
    {
     "data": {
      "text/html": [
       "<div>\n",
       "<style scoped>\n",
       "    .dataframe tbody tr th:only-of-type {\n",
       "        vertical-align: middle;\n",
       "    }\n",
       "\n",
       "    .dataframe tbody tr th {\n",
       "        vertical-align: top;\n",
       "    }\n",
       "\n",
       "    .dataframe thead th {\n",
       "        text-align: right;\n",
       "    }\n",
       "</style>\n",
       "<table border=\"1\" class=\"dataframe\">\n",
       "  <thead>\n",
       "    <tr style=\"text-align: right;\">\n",
       "      <th></th>\n",
       "      <th>TITLE</th>\n",
       "      <th>PRICE</th>\n",
       "      <th>STOCK AVAILABILTY</th>\n",
       "      <th>URL</th>\n",
       "    </tr>\n",
       "  </thead>\n",
       "  <tbody>\n",
       "    <tr>\n",
       "      <th>0</th>\n",
       "      <td>A Light in the ...</td>\n",
       "      <td>£51.77</td>\n",
       "      <td>In stock</td>\n",
       "      <td>https://books.toscrape.com/a-light-in-the-atti...</td>\n",
       "    </tr>\n",
       "    <tr>\n",
       "      <th>1</th>\n",
       "      <td>Tipping the Velvet</td>\n",
       "      <td>£53.74</td>\n",
       "      <td>In stock</td>\n",
       "      <td>https://books.toscrape.com/tipping-the-velvet_...</td>\n",
       "    </tr>\n",
       "    <tr>\n",
       "      <th>2</th>\n",
       "      <td>Soumission</td>\n",
       "      <td>£50.10</td>\n",
       "      <td>In stock</td>\n",
       "      <td>https://books.toscrape.com/soumission_998/inde...</td>\n",
       "    </tr>\n",
       "    <tr>\n",
       "      <th>3</th>\n",
       "      <td>Sharp Objects</td>\n",
       "      <td>£47.82</td>\n",
       "      <td>In stock</td>\n",
       "      <td>https://books.toscrape.com/sharp-objects_997/i...</td>\n",
       "    </tr>\n",
       "    <tr>\n",
       "      <th>4</th>\n",
       "      <td>Sapiens: A Brief History ...</td>\n",
       "      <td>£54.23</td>\n",
       "      <td>In stock</td>\n",
       "      <td>https://books.toscrape.com/sapiens-a-brief-his...</td>\n",
       "    </tr>\n",
       "    <tr>\n",
       "      <th>...</th>\n",
       "      <td>...</td>\n",
       "      <td>...</td>\n",
       "      <td>...</td>\n",
       "      <td>...</td>\n",
       "    </tr>\n",
       "    <tr>\n",
       "      <th>95</th>\n",
       "      <td>Lumberjanes Vol. 3: A ...</td>\n",
       "      <td>£19.92</td>\n",
       "      <td>In stock</td>\n",
       "      <td>https://books.toscrape.com/lumberjanes-vol-3-a...</td>\n",
       "    </tr>\n",
       "    <tr>\n",
       "      <th>96</th>\n",
       "      <td>Layered: Baking, Building, and ...</td>\n",
       "      <td>£40.11</td>\n",
       "      <td>In stock</td>\n",
       "      <td>https://books.toscrape.com/layered-baking-buil...</td>\n",
       "    </tr>\n",
       "    <tr>\n",
       "      <th>97</th>\n",
       "      <td>Judo: Seven Steps to ...</td>\n",
       "      <td>£53.90</td>\n",
       "      <td>In stock</td>\n",
       "      <td>https://books.toscrape.com/judo-seven-steps-to...</td>\n",
       "    </tr>\n",
       "    <tr>\n",
       "      <th>98</th>\n",
       "      <td>Join</td>\n",
       "      <td>£35.67</td>\n",
       "      <td>In stock</td>\n",
       "      <td>https://books.toscrape.com/join_902/index.html</td>\n",
       "    </tr>\n",
       "    <tr>\n",
       "      <th>99</th>\n",
       "      <td>In the Country We ...</td>\n",
       "      <td>£22.00</td>\n",
       "      <td>In stock</td>\n",
       "      <td>https://books.toscrape.com/in-the-country-we-l...</td>\n",
       "    </tr>\n",
       "  </tbody>\n",
       "</table>\n",
       "<p>100 rows × 4 columns</p>\n",
       "</div>"
      ],
      "text/plain": [
       "                                 TITLE   PRICE STOCK AVAILABILTY  \\\n",
       "0                   A Light in the ...  £51.77          In stock   \n",
       "1                   Tipping the Velvet  £53.74          In stock   \n",
       "2                           Soumission  £50.10          In stock   \n",
       "3                        Sharp Objects  £47.82          In stock   \n",
       "4         Sapiens: A Brief History ...  £54.23          In stock   \n",
       "..                                 ...     ...               ...   \n",
       "95           Lumberjanes Vol. 3: A ...  £19.92          In stock   \n",
       "96  Layered: Baking, Building, and ...  £40.11          In stock   \n",
       "97            Judo: Seven Steps to ...  £53.90          In stock   \n",
       "98                                Join  £35.67          In stock   \n",
       "99               In the Country We ...  £22.00          In stock   \n",
       "\n",
       "                                                  URL  \n",
       "0   https://books.toscrape.com/a-light-in-the-atti...  \n",
       "1   https://books.toscrape.com/tipping-the-velvet_...  \n",
       "2   https://books.toscrape.com/soumission_998/inde...  \n",
       "3   https://books.toscrape.com/sharp-objects_997/i...  \n",
       "4   https://books.toscrape.com/sapiens-a-brief-his...  \n",
       "..                                                ...  \n",
       "95  https://books.toscrape.com/lumberjanes-vol-3-a...  \n",
       "96  https://books.toscrape.com/layered-baking-buil...  \n",
       "97  https://books.toscrape.com/judo-seven-steps-to...  \n",
       "98     https://books.toscrape.com/join_902/index.html  \n",
       "99  https://books.toscrape.com/in-the-country-we-l...  \n",
       "\n",
       "[100 rows x 4 columns]"
      ]
     },
     "execution_count": 105,
     "metadata": {},
     "output_type": "execute_result"
    }
   ],
   "source": [
    "scrape_multiple_pages(5)"
   ]
  },
  {
   "cell_type": "code",
   "execution_count": 117,
   "id": "7ec73b69",
   "metadata": {},
   "outputs": [],
   "source": [
    "scrape_multiple_pages(5).to_csv('SCB.csv',index = None)"
   ]
  },
  {
   "cell_type": "code",
   "execution_count": null,
   "id": "aef67656",
   "metadata": {},
   "outputs": [],
   "source": []
  }
 ],
 "metadata": {
  "kernelspec": {
   "display_name": "Python 3 (ipykernel)",
   "language": "python",
   "name": "python3"
  },
  "language_info": {
   "codemirror_mode": {
    "name": "ipython",
    "version": 3
   },
   "file_extension": ".py",
   "mimetype": "text/x-python",
   "name": "python",
   "nbconvert_exporter": "python",
   "pygments_lexer": "ipython3",
   "version": "3.9.7"
  }
 },
 "nbformat": 4,
 "nbformat_minor": 5
}
